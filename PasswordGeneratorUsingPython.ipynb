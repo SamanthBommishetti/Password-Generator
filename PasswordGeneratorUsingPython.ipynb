{
 "cells": [
  {
   "cell_type": "code",
   "execution_count": 5,
   "id": "fb76a98d-3b79-416a-87e8-3b8a93e66bb6",
   "metadata": {},
   "outputs": [
    {
     "name": "stdout",
     "output_type": "stream",
     "text": [
      "enter numbers of letters needed8\n",
      "enter number of symbols needed2\n",
      "enter number of numbers needed4\n",
      "['g', 'o', 'R', 'd', 'u', 'a', 's', 'x', '$', '$', '2', '3', '5', '8']\n",
      "goRduasx$$2358\n"
     ]
    }
   ],
   "source": [
    "import random\n",
    "letters=['A','B','C','D','E','F','G','H','I','J','K','L','M','N','O','P','Q','R','S','T','U','V','W','X','Y','Z','a','b',\n",
    "         'c','d','e','f','g','h','i','j','k','l','m','n','o','p','q','r','s','t','u','v','w','x','y','z']\n",
    "symbols=['!' '@','#','$','%','^','&','*',';','+','=']\n",
    "numbers=['1','2','3','4','5','6','7','8','9','0']\n",
    "\n",
    "no_of_letters=int(input(\"enter numbers of letters needed\"))\n",
    "no_of_symbols=int(input(\"enter number of symbols needed\"))\n",
    "no_of_numbers=int(input(\"enter number of numbers needed\"))\n",
    "\n",
    "password_list=[]\n",
    "\n",
    "for i in range(1,no_of_letters+1):\n",
    "    char=random.choice(letters)\n",
    "    #password_list.append(char)\n",
    "    password_list+=char\n",
    "\n",
    "for i in range(1,no_of_symbols+1):\n",
    "    char=random.choice(symbols)\n",
    "    #password_list.append(char)\n",
    "    password_list+=char\n",
    "    \n",
    "for i in range(1,no_of_numbers+1):\n",
    "    char=random.choice(numbers)\n",
    "    #password_list.append(char)\n",
    "    password_list+=char\n",
    "\n",
    "print(password_list)\n",
    "\n",
    "password=\"\"\n",
    "for char in password_list:\n",
    "    password=password+char\n",
    "    \n",
    "print(password)\n"
   ]
  },
  {
   "cell_type": "code",
   "execution_count": null,
   "id": "1136657d",
   "metadata": {},
   "outputs": [],
   "source": []
  }
 ],
 "metadata": {
  "kernelspec": {
   "display_name": "Python 3 (ipykernel)",
   "language": "python",
   "name": "python3"
  },
  "language_info": {
   "codemirror_mode": {
    "name": "ipython",
    "version": 3
   },
   "file_extension": ".py",
   "mimetype": "text/x-python",
   "name": "python",
   "nbconvert_exporter": "python",
   "pygments_lexer": "ipython3",
   "version": "3.12.3"
  }
 },
 "nbformat": 4,
 "nbformat_minor": 5
}
